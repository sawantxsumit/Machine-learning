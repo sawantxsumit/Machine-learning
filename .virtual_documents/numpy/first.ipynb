print("hello4")


import numpy as np


arr=np.array([22,4, 77,4,2,5,6,734,35,43,5,54,3,51,78,22,33,43,46,56])



arr[10::-1]
#to print the elements from the 10th index to 0th index
#result includes the start index but excludes the end index


arr[:10]


arr[5:]


arr[-5:-1]
#excludes -3 and includes -1


arr[1:10:2]


arr2d=np.array([
    [1,22,3,44,5,66,76],
    [4,5,76,23,11,45,32]
])


arr2d[0, 1:6]


arr2d[0:2, 2:4]
