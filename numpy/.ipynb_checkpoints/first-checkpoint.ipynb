{
 "cells": [
  {
   "cell_type": "code",
   "execution_count": 3,
   "id": "5895e8de-c72a-4e2c-a2f1-12c5e17606d2",
   "metadata": {},
   "outputs": [
    {
     "name": "stdout",
     "output_type": "stream",
     "text": [
      "hello4\n"
     ]
    }
   ],
   "source": [
    "print(\"hello4\")"
   ]
  },
  {
   "cell_type": "code",
   "execution_count": 1,
   "id": "773e710c",
   "metadata": {},
   "outputs": [],
   "source": [
    "import numpy as np"
   ]
  },
  {
   "cell_type": "code",
   "execution_count": 5,
   "id": "79992cd7",
   "metadata": {},
   "outputs": [],
   "source": [
    "arr=np.array([22,4, 77,4,2,5,6,734,35,43,5,54,3,51,78,22,33,43,46,56])\n"
   ]
  },
  {
   "cell_type": "code",
   "execution_count": 13,
   "id": "33466e1a",
   "metadata": {},
   "outputs": [
    {
     "data": {
      "text/plain": [
       "array([  5,  43,  35, 734,   6,   5,   2,   4,  77,   4,  22])"
      ]
     },
     "execution_count": 13,
     "metadata": {},
     "output_type": "execute_result"
    }
   ],
   "source": [
    "arr[10::-1]\n",
    "#to print the elements from the 10th index to 0th index\n",
    "#result includes the start index but excludes the end index"
   ]
  },
  {
   "cell_type": "code",
   "execution_count": 14,
   "id": "cef838f1",
   "metadata": {},
   "outputs": [
    {
     "data": {
      "text/plain": [
       "array([ 22,   4,  77,   4,   2,   5,   6, 734,  35,  43])"
      ]
     },
     "execution_count": 14,
     "metadata": {},
     "output_type": "execute_result"
    }
   ],
   "source": [
    "arr[:10]"
   ]
  },
  {
   "cell_type": "code",
   "execution_count": 15,
   "id": "e5e094a3",
   "metadata": {},
   "outputs": [
    {
     "data": {
      "text/plain": [
       "array([  5,   6, 734,  35,  43,   5,  54,   3,  51,  78,  22,  33,  43,\n",
       "        46,  56])"
      ]
     },
     "execution_count": 15,
     "metadata": {},
     "output_type": "execute_result"
    }
   ],
   "source": [
    "arr[5:]"
   ]
  },
  {
   "cell_type": "code",
   "execution_count": 18,
   "id": "b5ea9bb2",
   "metadata": {},
   "outputs": [
    {
     "data": {
      "text/plain": [
       "array([22, 33, 43, 46])"
      ]
     },
     "execution_count": 18,
     "metadata": {},
     "output_type": "execute_result"
    }
   ],
   "source": [
    "arr[-5:-1]\n",
    "#excludes -3 and includes -1"
   ]
  },
  {
   "cell_type": "code",
   "execution_count": 19,
   "id": "a4f83436",
   "metadata": {},
   "outputs": [
    {
     "data": {
      "text/plain": [
       "array([  4,   4,   5, 734,  43])"
      ]
     },
     "execution_count": 19,
     "metadata": {},
     "output_type": "execute_result"
    }
   ],
   "source": [
    "arr[1:10:2]"
   ]
  },
  {
   "cell_type": "code",
   "execution_count": 20,
   "id": "8bb8c5e2",
   "metadata": {},
   "outputs": [],
   "source": [
    "arr2d=np.array([\n",
    "    [1,22,3,44,5,66,76],\n",
    "    [4,5,76,23,11,45,32]\n",
    "])"
   ]
  },
  {
   "cell_type": "code",
   "execution_count": 23,
   "id": "02b42e5d",
   "metadata": {},
   "outputs": [
    {
     "data": {
      "text/plain": [
       "array([22,  3, 44,  5, 66])"
      ]
     },
     "execution_count": 23,
     "metadata": {},
     "output_type": "execute_result"
    }
   ],
   "source": [
    "arr2d[0, 1:6]"
   ]
  },
  {
   "cell_type": "code",
   "execution_count": 25,
   "id": "567e109a",
   "metadata": {},
   "outputs": [
    {
     "data": {
      "text/plain": [
       "array([[ 3, 44],\n",
       "       [76, 23]])"
      ]
     },
     "execution_count": 25,
     "metadata": {},
     "output_type": "execute_result"
    }
   ],
   "source": [
    "arr2d[0:2, 2:4]"
   ]
  }
 ],
 "metadata": {
  "kernelspec": {
   "display_name": "Python 3",
   "language": "python",
   "name": "python3"
  },
  "language_info": {
   "codemirror_mode": {
    "name": "ipython",
    "version": 3
   },
   "file_extension": ".py",
   "mimetype": "text/x-python",
   "name": "python",
   "nbconvert_exporter": "python",
   "pygments_lexer": "ipython3",
   "version": "3.13.2"
  }
 },
 "nbformat": 4,
 "nbformat_minor": 5
}
