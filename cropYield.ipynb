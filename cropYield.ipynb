{
 "cells": [
  {
   "cell_type": "code",
   "execution_count": null,
   "metadata": {},
   "outputs": [],
   "source": [
    "w1,w2,w3=0.3,0.2,0.5"
   ]
  },
  {
   "cell_type": "code",
   "execution_count": null,
   "metadata": {},
   "outputs": [],
   "source": [
    "kanto_temp=73\n",
    "kanto_rainfall=67\n",
    "kanto_humidity=43"
   ]
  },
  {
   "cell_type": "markdown",
   "metadata": {},
   "source": [
    "submit the above variables in the following linear eqaution to predict the yield of apples in kanto region"
   ]
  },
  {
   "cell_type": "code",
   "execution_count": null,
   "metadata": {},
   "outputs": [],
   "source": [
    "kanto_yield_apples=kanto_temp*w1 + kanto_rainfall*w2 +kanto_humidity*w3\n",
    "kanto_yield_apples"
   ]
  },
  {
   "cell_type": "code",
   "execution_count": null,
   "metadata": {},
   "outputs": [],
   "source": [
    "print(\"The expected yield of apples in the kanto region is \",kanto_yield_apples ,\" tons per hectare\")"
   ]
  },
  {
   "cell_type": "markdown",
   "metadata": {},
   "source": [
    "to make it simpler we can represent the climate data for different regions in a vector i.e. a list of numbers"
   ]
  },
  {
   "cell_type": "code",
   "execution_count": null,
   "metadata": {},
   "outputs": [],
   "source": [
    "kanto=[73,67,43]\n",
    "johto=[91,88,64]\n",
    "hoenn=[87,134, 58]\n",
    "sinnoh=[102,43,37]\n",
    "unova=[69,96,70]"
   ]
  },
  {
   "cell_type": "markdown",
   "metadata": {},
   "source": [
    "the three numbers in each represent  temperature , rainfall and humidity data respectively"
   ]
  },
  {
   "cell_type": "code",
   "execution_count": null,
   "metadata": {},
   "outputs": [],
   "source": [
    "weights=[w1,w2,w3]"
   ]
  },
  {
   "cell_type": "code",
   "execution_count": null,
   "metadata": {},
   "outputs": [],
   "source": [
    "#example of zip function\n",
    "for item in zip(kanto, weights):\n",
    "    print(item)\n",
    "#also\n",
    "for x,y in zip(kanto, weights):\n",
    "    print(x,y)\n"
   ]
  },
  {
   "cell_type": "code",
   "execution_count": null,
   "metadata": {},
   "outputs": [],
   "source": [
    "#zip funtions creates sequential pairs from the two datasets given\n",
    "def crop_yield(region , weights):\n",
    "    result=0\n",
    "    for x, w in zip(region , weights):\n",
    "        result += x*w\n",
    "    return result"
   ]
  },
  {
   "cell_type": "code",
   "execution_count": null,
   "metadata": {},
   "outputs": [],
   "source": [
    "print(crop_yield(kanto, weights))\n",
    "print(crop_yield(johto, weights))\n",
    "print(crop_yield(hoenn, weights))\n",
    "print(crop_yield(sinnoh, weights))\n",
    "print(crop_yield(unova, weights))\n"
   ]
  }
 ],
 "metadata": {
  "kernelspec": {
   "display_name": "Python 3",
   "language": "python",
   "name": "python3"
  },
  "language_info": {
   "codemirror_mode": {
    "name": "ipython",
    "version": 3
   },
   "file_extension": ".py",
   "mimetype": "text/x-python",
   "name": "python",
   "nbconvert_exporter": "python",
   "pygments_lexer": "ipython3",
   "version": "3.13.2"
  }
 },
 "nbformat": 4,
 "nbformat_minor": 2
}
